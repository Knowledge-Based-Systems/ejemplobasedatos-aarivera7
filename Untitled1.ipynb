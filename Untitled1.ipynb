{
 "cells": [
  {
   "cell_type": "code",
   "execution_count": 11,
   "id": "b046ee6e",
   "metadata": {},
   "outputs": [
    {
     "name": "stdout",
     "output_type": "stream",
     "text": [
      "<mysql.connector.connection_cext.CMySQLConnection object at 0x000002B3EDEE3C70>\n"
     ]
    }
   ],
   "source": [
    "# Se importa el conector de mySQL para python\n",
    "import mysql.connector\n",
    "  \n",
    "# Se Crea los parametros para la conexion a la base de datos\n",
    "dataBase = mysql.connector.connect(\n",
    "  host =\"localhost\",\n",
    "  user =\"root\",\n",
    "  passwd =\"admin\",\n",
    ")\n",
    " \n",
    "print(dataBase)\n",
    "  \n",
    "# Disconnecting from the server\n",
    "# dataBase.close()"
   ]
  },
  {
   "cell_type": "code",
   "execution_count": 12,
   "id": "cef017eb",
   "metadata": {},
   "outputs": [],
   "source": [
    "# Se conecta a la base de datos con el cursor\n",
    "cursorObject = dataBase.cursor()"
   ]
  },
  {
   "cell_type": "code",
   "execution_count": 7,
   "id": "fc44f647",
   "metadata": {},
   "outputs": [],
   "source": [
    "#Se crea una base de datos llamada practicum\n",
    "cursorObject.execute(\"CREATE DATABASE PRACTICUM\")\n",
    "cursorObject.execute(\"USE DATABASE PRACTICUM\")"
   ]
  },
  {
   "cell_type": "code",
   "execution_count": 13,
   "id": "2467b16a",
   "metadata": {},
   "outputs": [],
   "source": [
    "# Se crea una tabla en la base de datos PERSONAS\n",
    "# Ejecutar una sola vez\n",
    "tablapruebas = \"\"\"CREATE TABLE PERSONAS (\n",
    "cedula VARCHAR(10) NOT NULL,\n",
    "nombres VARCHAR(50) NOT NULL,\n",
    "apellidos VARCHAR(50) NOT NULL,\n",
    "fecha_nacimiento DATE NOT NULL, \n",
    "PRIMARY KEY(cedula)\n",
    ")\"\"\"\n",
    "\n",
    "cursorObject.execute(tablapruebas)"
   ]
  },
  {
   "cell_type": "code",
   "execution_count": 14,
   "id": "60d45a67",
   "metadata": {},
   "outputs": [],
   "source": [
    "# Creamos el query para insert \n",
    "# Ejecutar una sola vez\n",
    "paraInsertar = \"\"\"INSERT INTO CUMPLEANIOS (cedula, nombres, apellidos, fecha_nacimiento)\\\n",
    "VALUES (%s, %s, %s, %s)\"\"\""
   ]
  },
  {
   "cell_type": "code",
   "execution_count": 15,
   "id": "d6ea9a4c",
   "metadata": {},
   "outputs": [],
   "source": [
    "# Probamos insertar una fila en la tabla cumpleaños\n",
    "valor = (\"1103689761\", \"Edgar\", \"Martinez\",\"2003-07-28\")\n",
    "\n",
    "cursorObject.execute(paraInsertar, valor)\n",
    "dataBase.commit()"
   ]
  },
  {
   "cell_type": "code",
   "execution_count": 16,
   "id": "d425b8fc",
   "metadata": {},
   "outputs": [],
   "source": [
    "# Probamos insertar varias filas a la vez en la base de datos\n",
    "datosCumpleaños = [\n",
    "    (\"1105667271\", \"María\", \"Pineda\", \"2002-05-27\"),\n",
    "    (\"1607892657\", \"Julio\", \"Luna\", \"2002-09-05\"),\n",
    "    (\"1101788961\", \"Kevin\", \"Cabrera\", \"2003-07-06\"),\n",
    "    (\"1107128839\", \"Ana\", \"Aguirre\", \"2002-04-07\"),\n",
    "    (\"1103667891\", \"Carolina\", \"Álvarez\", \"2003-03-15\"),\n",
    "    (\"1104826489\", \"Richard\",\"Gonzalez\", \"2001-10-27\")\n",
    "]\n",
    "\n",
    "cursorObject.executemany(paraInsertar, datosCumpleaños)\n",
    "dataBase.commit()"
   ]
  },
  {
   "cell_type": "code",
   "execution_count": 17,
   "id": "53787e37",
   "metadata": {},
   "outputs": [],
   "source": [
    "# Actualizamos un campo en la tabla cumpleaños \n",
    "actualizar = \"UPDATE PERSONAS SET fecha_nacimiento = '2002-04-22' WHERE cedula = '1107128839'\"\n",
    "\n",
    "cursorObject.execute(actualizar)\n",
    "dataBase.commit()"
   ]
  },
  {
   "cell_type": "code",
   "execution_count": 18,
   "id": "0d6df9bf",
   "metadata": {},
   "outputs": [],
   "source": [
    "# Añadimos un campo adicional a la tabla cumpleaños\n",
    "addCampo = \"ALTER TABLE PERSONAS ADD id_vehiculo VARCHAR(15) DEFAULT NULL\"\n",
    "\n",
    "cursorObject.execute(addCampo)\n",
    "dataBase.commit()"
   ]
  },
  {
   "cell_type": "code",
   "execution_count": 19,
   "id": "09d12586",
   "metadata": {},
   "outputs": [],
   "source": [
    "# Actualizamos un campo en todas las filas de una tabla \n",
    "actualizartodos = \"UPDATE CUMPLEANIOS SET nota = 'No olvidarlo'\"\n",
    "\n",
    "cursorObject.execute(actualizartodos)\n",
    "dataBase.commit()"
   ]
  },
  {
   "cell_type": "code",
   "execution_count": 21,
   "id": "2b027beb",
   "metadata": {},
   "outputs": [
    {
     "name": "stdout",
     "output_type": "stream",
     "text": [
      "('Edgar', 28, 'julio', 18, 'No olvidarlo')\n",
      "('Julio', 5, 'Septiembre', 19, 'No olvidarlo')\n",
      "('Kevin', 6, 'julio', 18, 'No olvidarlo')\n",
      "('Anita', 17, 'agosto', 22, 'No olvidarlo')\n",
      "('Carolina', 13, 'abril', 19, 'No olvidarlo')\n",
      "('Richard', 27, 'octubre', 20, 'No olvidarlo')\n",
      "('Yamile', 26, 'octubre', 16, 'No olvidarlo')\n"
     ]
    }
   ],
   "source": [
    "# Consulta de una tabla\n",
    "\n",
    "consultaTodo = \"SELECT * FROM practicum.cumpleanios\"\n",
    "\n",
    "cursorObject.execute(consultaTodo)\n",
    "\n",
    "resultadoUno = cursorObject.fetchall()\n",
    "\n",
    "for x in resultadoUno:\n",
    "    print(x)"
   ]
  },
  {
   "cell_type": "code",
   "execution_count": 22,
   "id": "7dd8a8d2",
   "metadata": {},
   "outputs": [
    {
     "name": "stdout",
     "output_type": "stream",
     "text": [
      "('Edgar', 28, 'julio', 18, 'No olvidarlo')\n",
      "('Kevin', 6, 'julio', 18, 'No olvidarlo')\n"
     ]
    }
   ],
   "source": [
    "# Consulta selectiva de una tabla\n",
    "consultaSelectiva = \"\"\"SELECT * FROM practicum.cumpleanios\n",
    "WHERE (aniosactuales < 20) AND (mes = 'julio')\"\"\"\n",
    "\n",
    "cursorObject.execute(consultaSelectiva)\n",
    "\n",
    "resultadoDos = cursorObject.fetchall()\n",
    "\n",
    "for x in resultadoDos:\n",
    "    print(x)"
   ]
  },
  {
   "cell_type": "code",
   "execution_count": 23,
   "id": "cc4189c0",
   "metadata": {},
   "outputs": [],
   "source": [
    "dataBase.close()"
   ]
  },
  {
   "cell_type": "code",
   "execution_count": null,
   "id": "c5317989",
   "metadata": {},
   "outputs": [],
   "source": []
  }
 ],
 "metadata": {
  "kernelspec": {
   "display_name": "Python 3 (ipykernel)",
   "language": "python",
   "name": "python3"
  },
  "language_info": {
   "codemirror_mode": {
    "name": "ipython",
    "version": 3
   },
   "file_extension": ".py",
   "mimetype": "text/x-python",
   "name": "python",
   "nbconvert_exporter": "python",
   "pygments_lexer": "ipython3",
   "version": "3.9.6"
  }
 },
 "nbformat": 4,
 "nbformat_minor": 5
}
